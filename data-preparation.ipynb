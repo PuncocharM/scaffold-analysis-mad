{
 "cells": [
  {
   "cell_type": "code",
   "execution_count": 2,
   "metadata": {},
   "outputs": [
    {
     "name": "stderr",
     "output_type": "stream",
     "text": [
      "[09/06/19 22:10:24 standardiser.standardise WARNING] Running under Windows: must disable use of timeout\n"
     ]
    }
   ],
   "source": [
    "df_molecules"
   ]
  },
  {
   "cell_type": "markdown",
   "metadata": {},
   "source": [
    "# Data preparation"
   ]
  },
  {
   "cell_type": "markdown",
   "metadata": {},
   "source": [
    "I have downloaded the activities from the website of Chembl25 using the following query:\n",
    "\n",
    "<code>\n",
    "(\n",
    "target_chembl_id:CHEMBL206 OR \n",
    "target_chembl_id:CHEMBL242 OR \n",
    "target_chembl_id:tarCHEMBL2034 OR\n",
    "target_chembl_id:CHEMBL1994 OR \n",
    "target_chembl_id:CHEMBL208 OR \n",
    "target_chembl_id:CHEMBL1871\n",
    ") AND (standard_type:IC50 OR standard_type:EC50 OR standard_type:Ki OR standard_type:Kd) AND assay_type:B\n",
    "    </code>"
   ]
  },
  {
   "cell_type": "code",
   "execution_count": 3,
   "metadata": {},
   "outputs": [],
   "source": [
    "receptors = 'ERa,ERb,GR,MR,PR,AR'.split(',')\n",
    "receptors_chembl_ids = 'CHEMBL206,CHEMBL242,CHEMBL2034,CHEMBL1994,CHEMBL208,CHEMBL1871'.split(',')\n",
    "chembl_id_to_name = {a:b for a,b in zip(receptors_chembl_ids, receptors)}"
   ]
  },
  {
   "cell_type": "code",
   "execution_count": 7,
   "metadata": {},
   "outputs": [],
   "source": [
    "# df_union = pd.DataFrame()\n",
    "# for receptor in receptors:\n",
    "#     df = pd.read_csv('primary_data/CHEMBL25-{}.csv'.format(receptor))\n",
    "#     df_union = pd.concat([df_union, df])\n",
    "#     del df\n",
    "df_union = pd.read_csv('primary_data/CHEMBL25-all.csv')\n",
    "df_union.rename(lambda x:x.replace(' ','_'), axis='columns', inplace=True)"
   ]
  },
  {
   "cell_type": "code",
   "execution_count": 8,
   "metadata": {},
   "outputs": [
    {
     "data": {
      "text/html": [
       "<div>\n",
       "<style scoped>\n",
       "    .dataframe tbody tr th:only-of-type {\n",
       "        vertical-align: middle;\n",
       "    }\n",
       "\n",
       "    .dataframe tbody tr th {\n",
       "        vertical-align: top;\n",
       "    }\n",
       "\n",
       "    .dataframe thead th {\n",
       "        text-align: right;\n",
       "    }\n",
       "</style>\n",
       "<table border=\"1\" class=\"dataframe\">\n",
       "  <thead>\n",
       "    <tr style=\"text-align: right;\">\n",
       "      <th></th>\n",
       "      <th>Molecule</th>\n",
       "      <th>Standard_Type</th>\n",
       "      <th>Standard_Relation</th>\n",
       "      <th>Standard_Value</th>\n",
       "      <th>Standard_Units</th>\n",
       "      <th>pChEMBL_Value</th>\n",
       "      <th>Comment</th>\n",
       "      <th>Compound_Key</th>\n",
       "      <th>Assay</th>\n",
       "      <th>Assay_Description</th>\n",
       "      <th>BAO_Format</th>\n",
       "      <th>Target</th>\n",
       "      <th>Target_Pref._Name</th>\n",
       "      <th>Target_Organism</th>\n",
       "      <th>Target_Type</th>\n",
       "      <th>Document</th>\n",
       "      <th>Source</th>\n",
       "      <th>Max_Phase</th>\n",
       "      <th>#Ro5_Violations</th>\n",
       "      <th>Molecular_Weight</th>\n",
       "      <th>Ligand_Efficiency_BEI</th>\n",
       "      <th>Ligand_Efficiency_LE</th>\n",
       "      <th>Ligand_Efficiency_LLE</th>\n",
       "      <th>Ligand_Efficiency_SEI</th>\n",
       "      <th>ALogP</th>\n",
       "      <th>Assay_Organism</th>\n",
       "      <th>Assay_Tissue_ChEMBL_ID</th>\n",
       "      <th>Assay_Tissue_Name</th>\n",
       "      <th>Assay_Cell_Type</th>\n",
       "      <th>Assay_Subcellular_Fraction</th>\n",
       "      <th>Organism_Tax_ID</th>\n",
       "      <th>BAO_Format_ID</th>\n",
       "      <th>Published_Type</th>\n",
       "      <th>Published_Relation</th>\n",
       "      <th>Published_Value</th>\n",
       "      <th>Published_Units</th>\n",
       "      <th>Canonical_Smiles</th>\n",
       "      <th>Data_Validity_Comment</th>\n",
       "      <th>Document_Journal</th>\n",
       "      <th>Document_Year</th>\n",
       "      <th>SRC_ID</th>\n",
       "      <th>UO_Units</th>\n",
       "      <th>Potential_Duplicate</th>\n",
       "    </tr>\n",
       "  </thead>\n",
       "  <tbody>\n",
       "    <tr>\n",
       "      <th>0</th>\n",
       "      <td>CHEMBL225349</td>\n",
       "      <td>EC50</td>\n",
       "      <td>=</td>\n",
       "      <td>3070.0</td>\n",
       "      <td>nM</td>\n",
       "      <td>5.51</td>\n",
       "      <td>NaN</td>\n",
       "      <td>4b</td>\n",
       "      <td>CHEMBL916265</td>\n",
       "      <td>Activity at human ERalpha expressed in HAECT1 ...</td>\n",
       "      <td>cell-based format</td>\n",
       "      <td>CHEMBL206</td>\n",
       "      <td>Estrogen receptor alpha</td>\n",
       "      <td>Homo sapiens</td>\n",
       "      <td>SINGLE PROTEIN</td>\n",
       "      <td>CHEMBL1149265</td>\n",
       "      <td>Scientific Literature</td>\n",
       "      <td>0</td>\n",
       "      <td>0.0</td>\n",
       "      <td>270.29</td>\n",
       "      <td>20.40</td>\n",
       "      <td>0.38</td>\n",
       "      <td>2.67</td>\n",
       "      <td>7.02</td>\n",
       "      <td>2.84</td>\n",
       "      <td>Homo sapiens</td>\n",
       "      <td>NaN</td>\n",
       "      <td>NaN</td>\n",
       "      <td>HAECT1</td>\n",
       "      <td>NaN</td>\n",
       "      <td>9606</td>\n",
       "      <td>BAO_0000219</td>\n",
       "      <td>NaN</td>\n",
       "      <td>NaN</td>\n",
       "      <td>NaN</td>\n",
       "      <td>NaN</td>\n",
       "      <td>CCn1nc(c2ccc(O)cc2O)c3ccc(O)cc13</td>\n",
       "      <td>NaN</td>\n",
       "      <td>J. Med. Chem.</td>\n",
       "      <td>2004.0</td>\n",
       "      <td>1</td>\n",
       "      <td>UO_0000065</td>\n",
       "      <td>False</td>\n",
       "    </tr>\n",
       "    <tr>\n",
       "      <th>1</th>\n",
       "      <td>CHEMBL222522</td>\n",
       "      <td>IC50</td>\n",
       "      <td>=</td>\n",
       "      <td>59.0</td>\n",
       "      <td>nM</td>\n",
       "      <td>7.23</td>\n",
       "      <td>NaN</td>\n",
       "      <td>11h</td>\n",
       "      <td>CHEMBL916819</td>\n",
       "      <td>Activity at human ERalpha expressed in HAECT1 ...</td>\n",
       "      <td>cell-based format</td>\n",
       "      <td>CHEMBL206</td>\n",
       "      <td>Estrogen receptor alpha</td>\n",
       "      <td>Homo sapiens</td>\n",
       "      <td>SINGLE PROTEIN</td>\n",
       "      <td>CHEMBL1149265</td>\n",
       "      <td>Scientific Literature</td>\n",
       "      <td>0</td>\n",
       "      <td>0.0</td>\n",
       "      <td>332.32</td>\n",
       "      <td>21.75</td>\n",
       "      <td>0.41</td>\n",
       "      <td>2.31</td>\n",
       "      <td>19.00</td>\n",
       "      <td>4.92</td>\n",
       "      <td>Homo sapiens</td>\n",
       "      <td>NaN</td>\n",
       "      <td>NaN</td>\n",
       "      <td>HAECT1</td>\n",
       "      <td>NaN</td>\n",
       "      <td>9606</td>\n",
       "      <td>BAO_0000219</td>\n",
       "      <td>NaN</td>\n",
       "      <td>NaN</td>\n",
       "      <td>NaN</td>\n",
       "      <td>NaN</td>\n",
       "      <td>Cc1cc(O)ccc1c2nn(CC=C)c3c(cccc23)C(F)(F)F</td>\n",
       "      <td>NaN</td>\n",
       "      <td>J. Med. Chem.</td>\n",
       "      <td>2004.0</td>\n",
       "      <td>1</td>\n",
       "      <td>UO_0000065</td>\n",
       "      <td>False</td>\n",
       "    </tr>\n",
       "    <tr>\n",
       "      <th>2</th>\n",
       "      <td>CHEMBL373743</td>\n",
       "      <td>IC50</td>\n",
       "      <td>=</td>\n",
       "      <td>18.0</td>\n",
       "      <td>nM</td>\n",
       "      <td>7.75</td>\n",
       "      <td>NaN</td>\n",
       "      <td>11f</td>\n",
       "      <td>CHEMBL916819</td>\n",
       "      <td>Activity at human ERalpha expressed in HAECT1 ...</td>\n",
       "      <td>cell-based format</td>\n",
       "      <td>CHEMBL206</td>\n",
       "      <td>Estrogen receptor alpha</td>\n",
       "      <td>Homo sapiens</td>\n",
       "      <td>SINGLE PROTEIN</td>\n",
       "      <td>CHEMBL1149265</td>\n",
       "      <td>Scientific Literature</td>\n",
       "      <td>0</td>\n",
       "      <td>0.0</td>\n",
       "      <td>296.35</td>\n",
       "      <td>26.13</td>\n",
       "      <td>0.48</td>\n",
       "      <td>3.08</td>\n",
       "      <td>20.35</td>\n",
       "      <td>4.66</td>\n",
       "      <td>Homo sapiens</td>\n",
       "      <td>NaN</td>\n",
       "      <td>NaN</td>\n",
       "      <td>HAECT1</td>\n",
       "      <td>NaN</td>\n",
       "      <td>9606</td>\n",
       "      <td>BAO_0000219</td>\n",
       "      <td>NaN</td>\n",
       "      <td>NaN</td>\n",
       "      <td>NaN</td>\n",
       "      <td>NaN</td>\n",
       "      <td>Oc1ccc(cc1)c2nn(C3CCCC3)c4c(F)cccc24</td>\n",
       "      <td>NaN</td>\n",
       "      <td>J. Med. Chem.</td>\n",
       "      <td>2004.0</td>\n",
       "      <td>1</td>\n",
       "      <td>UO_0000065</td>\n",
       "      <td>False</td>\n",
       "    </tr>\n",
       "    <tr>\n",
       "      <th>3</th>\n",
       "      <td>CHEMBL221676</td>\n",
       "      <td>IC50</td>\n",
       "      <td>=</td>\n",
       "      <td>196.0</td>\n",
       "      <td>nM</td>\n",
       "      <td>6.71</td>\n",
       "      <td>NaN</td>\n",
       "      <td>8c</td>\n",
       "      <td>CHEMBL916819</td>\n",
       "      <td>Activity at human ERalpha expressed in HAECT1 ...</td>\n",
       "      <td>cell-based format</td>\n",
       "      <td>CHEMBL206</td>\n",
       "      <td>Estrogen receptor alpha</td>\n",
       "      <td>Homo sapiens</td>\n",
       "      <td>SINGLE PROTEIN</td>\n",
       "      <td>CHEMBL1149265</td>\n",
       "      <td>Scientific Literature</td>\n",
       "      <td>0</td>\n",
       "      <td>1.0</td>\n",
       "      <td>368.36</td>\n",
       "      <td>18.21</td>\n",
       "      <td>0.34</td>\n",
       "      <td>1.23</td>\n",
       "      <td>17.63</td>\n",
       "      <td>5.48</td>\n",
       "      <td>Homo sapiens</td>\n",
       "      <td>NaN</td>\n",
       "      <td>NaN</td>\n",
       "      <td>HAECT1</td>\n",
       "      <td>NaN</td>\n",
       "      <td>9606</td>\n",
       "      <td>BAO_0000219</td>\n",
       "      <td>NaN</td>\n",
       "      <td>NaN</td>\n",
       "      <td>NaN</td>\n",
       "      <td>NaN</td>\n",
       "      <td>Oc1ccc(cc1)c2nn(Cc3ccccc3)c4c(cccc24)C(F)(F)F</td>\n",
       "      <td>NaN</td>\n",
       "      <td>J. Med. Chem.</td>\n",
       "      <td>2004.0</td>\n",
       "      <td>1</td>\n",
       "      <td>UO_0000065</td>\n",
       "      <td>False</td>\n",
       "    </tr>\n",
       "    <tr>\n",
       "      <th>4</th>\n",
       "      <td>CHEMBL225022</td>\n",
       "      <td>IC50</td>\n",
       "      <td>=</td>\n",
       "      <td>112.0</td>\n",
       "      <td>nM</td>\n",
       "      <td>6.95</td>\n",
       "      <td>NaN</td>\n",
       "      <td>4e</td>\n",
       "      <td>CHEMBL916819</td>\n",
       "      <td>Activity at human ERalpha expressed in HAECT1 ...</td>\n",
       "      <td>cell-based format</td>\n",
       "      <td>CHEMBL206</td>\n",
       "      <td>Estrogen receptor alpha</td>\n",
       "      <td>Homo sapiens</td>\n",
       "      <td>SINGLE PROTEIN</td>\n",
       "      <td>CHEMBL1149265</td>\n",
       "      <td>Scientific Literature</td>\n",
       "      <td>0</td>\n",
       "      <td>0.0</td>\n",
       "      <td>298.34</td>\n",
       "      <td>23.30</td>\n",
       "      <td>0.43</td>\n",
       "      <td>3.33</td>\n",
       "      <td>8.85</td>\n",
       "      <td>3.62</td>\n",
       "      <td>Homo sapiens</td>\n",
       "      <td>NaN</td>\n",
       "      <td>NaN</td>\n",
       "      <td>HAECT1</td>\n",
       "      <td>NaN</td>\n",
       "      <td>9606</td>\n",
       "      <td>BAO_0000219</td>\n",
       "      <td>NaN</td>\n",
       "      <td>NaN</td>\n",
       "      <td>NaN</td>\n",
       "      <td>NaN</td>\n",
       "      <td>CCCCn1nc(c2ccc(O)cc2O)c3ccc(O)cc13</td>\n",
       "      <td>NaN</td>\n",
       "      <td>J. Med. Chem.</td>\n",
       "      <td>2004.0</td>\n",
       "      <td>1</td>\n",
       "      <td>UO_0000065</td>\n",
       "      <td>False</td>\n",
       "    </tr>\n",
       "  </tbody>\n",
       "</table>\n",
       "</div>"
      ],
      "text/plain": [
       "       Molecule Standard_Type Standard_Relation  Standard_Value  \\\n",
       "0  CHEMBL225349          EC50                 =          3070.0   \n",
       "1  CHEMBL222522          IC50                 =            59.0   \n",
       "2  CHEMBL373743          IC50                 =            18.0   \n",
       "3  CHEMBL221676          IC50                 =           196.0   \n",
       "4  CHEMBL225022          IC50                 =           112.0   \n",
       "\n",
       "  Standard_Units  pChEMBL_Value Comment Compound_Key         Assay  \\\n",
       "0             nM           5.51     NaN           4b  CHEMBL916265   \n",
       "1             nM           7.23     NaN          11h  CHEMBL916819   \n",
       "2             nM           7.75     NaN          11f  CHEMBL916819   \n",
       "3             nM           6.71     NaN           8c  CHEMBL916819   \n",
       "4             nM           6.95     NaN           4e  CHEMBL916819   \n",
       "\n",
       "                                   Assay_Description         BAO_Format  \\\n",
       "0  Activity at human ERalpha expressed in HAECT1 ...  cell-based format   \n",
       "1  Activity at human ERalpha expressed in HAECT1 ...  cell-based format   \n",
       "2  Activity at human ERalpha expressed in HAECT1 ...  cell-based format   \n",
       "3  Activity at human ERalpha expressed in HAECT1 ...  cell-based format   \n",
       "4  Activity at human ERalpha expressed in HAECT1 ...  cell-based format   \n",
       "\n",
       "      Target        Target_Pref._Name Target_Organism     Target_Type  \\\n",
       "0  CHEMBL206  Estrogen receptor alpha    Homo sapiens  SINGLE PROTEIN   \n",
       "1  CHEMBL206  Estrogen receptor alpha    Homo sapiens  SINGLE PROTEIN   \n",
       "2  CHEMBL206  Estrogen receptor alpha    Homo sapiens  SINGLE PROTEIN   \n",
       "3  CHEMBL206  Estrogen receptor alpha    Homo sapiens  SINGLE PROTEIN   \n",
       "4  CHEMBL206  Estrogen receptor alpha    Homo sapiens  SINGLE PROTEIN   \n",
       "\n",
       "        Document                 Source  Max_Phase  #Ro5_Violations  \\\n",
       "0  CHEMBL1149265  Scientific Literature          0              0.0   \n",
       "1  CHEMBL1149265  Scientific Literature          0              0.0   \n",
       "2  CHEMBL1149265  Scientific Literature          0              0.0   \n",
       "3  CHEMBL1149265  Scientific Literature          0              1.0   \n",
       "4  CHEMBL1149265  Scientific Literature          0              0.0   \n",
       "\n",
       "   Molecular_Weight  Ligand_Efficiency_BEI  Ligand_Efficiency_LE  \\\n",
       "0            270.29                  20.40                  0.38   \n",
       "1            332.32                  21.75                  0.41   \n",
       "2            296.35                  26.13                  0.48   \n",
       "3            368.36                  18.21                  0.34   \n",
       "4            298.34                  23.30                  0.43   \n",
       "\n",
       "   Ligand_Efficiency_LLE  Ligand_Efficiency_SEI  ALogP Assay_Organism  \\\n",
       "0                   2.67                   7.02   2.84   Homo sapiens   \n",
       "1                   2.31                  19.00   4.92   Homo sapiens   \n",
       "2                   3.08                  20.35   4.66   Homo sapiens   \n",
       "3                   1.23                  17.63   5.48   Homo sapiens   \n",
       "4                   3.33                   8.85   3.62   Homo sapiens   \n",
       "\n",
       "   Assay_Tissue_ChEMBL_ID  Assay_Tissue_Name Assay_Cell_Type  \\\n",
       "0                     NaN                NaN          HAECT1   \n",
       "1                     NaN                NaN          HAECT1   \n",
       "2                     NaN                NaN          HAECT1   \n",
       "3                     NaN                NaN          HAECT1   \n",
       "4                     NaN                NaN          HAECT1   \n",
       "\n",
       "   Assay_Subcellular_Fraction  Organism_Tax_ID BAO_Format_ID  Published_Type  \\\n",
       "0                         NaN             9606   BAO_0000219             NaN   \n",
       "1                         NaN             9606   BAO_0000219             NaN   \n",
       "2                         NaN             9606   BAO_0000219             NaN   \n",
       "3                         NaN             9606   BAO_0000219             NaN   \n",
       "4                         NaN             9606   BAO_0000219             NaN   \n",
       "\n",
       "   Published_Relation  Published_Value  Published_Units  \\\n",
       "0                 NaN              NaN              NaN   \n",
       "1                 NaN              NaN              NaN   \n",
       "2                 NaN              NaN              NaN   \n",
       "3                 NaN              NaN              NaN   \n",
       "4                 NaN              NaN              NaN   \n",
       "\n",
       "                                Canonical_Smiles Data_Validity_Comment  \\\n",
       "0               CCn1nc(c2ccc(O)cc2O)c3ccc(O)cc13                   NaN   \n",
       "1      Cc1cc(O)ccc1c2nn(CC=C)c3c(cccc23)C(F)(F)F                   NaN   \n",
       "2           Oc1ccc(cc1)c2nn(C3CCCC3)c4c(F)cccc24                   NaN   \n",
       "3  Oc1ccc(cc1)c2nn(Cc3ccccc3)c4c(cccc24)C(F)(F)F                   NaN   \n",
       "4             CCCCn1nc(c2ccc(O)cc2O)c3ccc(O)cc13                   NaN   \n",
       "\n",
       "  Document_Journal  Document_Year  SRC_ID    UO_Units  Potential_Duplicate  \n",
       "0    J. Med. Chem.         2004.0       1  UO_0000065                False  \n",
       "1    J. Med. Chem.         2004.0       1  UO_0000065                False  \n",
       "2    J. Med. Chem.         2004.0       1  UO_0000065                False  \n",
       "3    J. Med. Chem.         2004.0       1  UO_0000065                False  \n",
       "4    J. Med. Chem.         2004.0       1  UO_0000065                False  "
      ]
     },
     "execution_count": 8,
     "metadata": {},
     "output_type": "execute_result"
    }
   ],
   "source": [
    "df_union.head()"
   ]
  },
  {
   "cell_type": "markdown",
   "metadata": {},
   "source": [
    "### Filter the rows with NAs"
   ]
  },
  {
   "cell_type": "code",
   "execution_count": 16,
   "metadata": {
    "scrolled": true
   },
   "outputs": [
    {
     "name": "stderr",
     "output_type": "stream",
     "text": [
      "f:\\programy\\Miniconda3\\envs\\main\\lib\\site-packages\\ipykernel_launcher.py:2: SettingWithCopyWarning: \n",
      "A value is trying to be set on a copy of a slice from a DataFrame.\n",
      "Try using .loc[row_indexer,col_indexer] = value instead\n",
      "\n",
      "See the caveats in the documentation: http://pandas.pydata.org/pandas-docs/stable/indexing.html#indexing-view-versus-copy\n",
      "  \n"
     ]
    }
   ],
   "source": [
    "df_clean = df_union.query('pChEMBL_Value.notnull() and Canonical_Smiles.notnull()')\n",
    "df_clean[\"receptor_name\"] = df_clean.Target.apply(lambda x:chembl_id_to_name[x])"
   ]
  },
  {
   "cell_type": "markdown",
   "metadata": {},
   "source": [
    "### Standardise the molecules\n",
    "\n",
    "I use custom standardiser that combines two standardisation libraries.\n",
    "\n",
    "It has the effect that invalid compounds get filtered out + there is some normalization."
   ]
  },
  {
   "cell_type": "code",
   "execution_count": 17,
   "metadata": {},
   "outputs": [],
   "source": [
    "df_molecules = df_clean[[\"Molecule\", \"Canonical_Smiles\"]] \\\n",
    "    .drop_duplicates() \\\n",
    "    .set_index('Molecule') \\\n",
    "    .copy()"
   ]
  },
  {
   "cell_type": "code",
   "execution_count": 18,
   "metadata": {},
   "outputs": [],
   "source": [
    "# standardise molecules and group activities by the standardised parent molecule\n",
    "class CustomStandardiser:\n",
    "    def __init__(self):\n",
    "        self.standardiser = molvs.Standardizer()\n",
    "        self.tautomer_canonicalizer = molvs.tautomer.TautomerCanonicalizer()\n",
    "        self.reionzer = molvs.charge.Reionizer()\n",
    "\n",
    "    def standardise(self, smiles):\n",
    "        mol = MolFromSmiles(smiles)\n",
    "        try:\n",
    "            standard_parent = standardise.run(mol) # Francis Atkinson\n",
    "            standard_parent2 = self.standardiser.standardize(standard_parent) # MolVS\n",
    "            tautomer_parent = self.tautomer_canonicalizer.canonicalize(standard_parent2) # MolVS tautomer\n",
    "            reionized_parent = self.reionzer.reionize(tautomer_parent) # MolVS reionize\n",
    "            \n",
    "            return reionized_parent\n",
    "        except Exception as e:\n",
    "            print(e)\n",
    "            display(mol)\n",
    "            print('---')\n",
    "            return None"
   ]
  },
  {
   "cell_type": "code",
   "execution_count": 19,
   "metadata": {},
   "outputs": [],
   "source": [
    "cs = CustomStandardiser()"
   ]
  },
  {
   "cell_type": "code",
   "execution_count": 20,
   "metadata": {},
   "outputs": [
    {
     "data": {
      "application/vnd.jupyter.widget-view+json": {
       "model_id": "5b87728a96d04bf89896aa99422eae3f",
       "version_major": 2,
       "version_minor": 0
      },
      "text/plain": [
       "HBox(children=(IntProgress(value=0, max=5654), HTML(value='')))"
      ]
     },
     "metadata": {},
     "output_type": "display_data"
    },
    {
     "name": "stdout",
     "output_type": "stream",
     "text": [
      "Multiple non-salt/solvate components\n"
     ]
    },
    {
     "data": {
      "image/png": "[encoded data removed]",
      "text/plain": [
       "<rdkit.Chem.rdchem.Mol at 0x1ed1d4de990>"
      ]
     },
     "metadata": {},
     "output_type": "display_data"
    },
    {
     "name": "stdout",
     "output_type": "stream",
     "text": [
      "---\n",
      "No non-salt/solvate components\n"
     ]
    },
    {
     "data": {
      "image/png": "[encoded data removed]",
      "text/plain": [
       "<rdkit.Chem.rdchem.Mol at 0x1ed1d4d5b20>"
      ]
     },
     "metadata": {},
     "output_type": "display_data"
    },
    {
     "name": "stdout",
     "output_type": "stream",
     "text": [
      "---\n",
      "No non-salt/solvate components\n"
     ]
    },
    {
     "data": {
      "image/png": "[encoded data removed]",
      "text/plain": [
       "<rdkit.Chem.rdchem.Mol at 0x1ed1d4ca5d0>"
      ]
     },
     "metadata": {},
     "output_type": "display_data"
    },
    {
     "name": "stdout",
     "output_type": "stream",
     "text": [
      "---\n",
      "No non-salt/solvate components\n"
     ]
    },
    {
     "data": {
      "image/png": "[encoded data removed]",
      "text/plain": [
       "<rdkit.Chem.rdchem.Mol at 0x1ed1f003bc0>"
      ]
     },
     "metadata": {},
     "output_type": "display_data"
    },
    {
     "name": "stdout",
     "output_type": "stream",
     "text": [
      "---\n",
      "Multiple non-salt/solvate components\n"
     ]
    },
    {
     "data": {
      "image/png": "[encoded data removed]",
      "text/plain": [
       "<rdkit.Chem.rdchem.Mol at 0x1ed1e9a4da0>"
      ]
     },
     "metadata": {},
     "output_type": "display_data"
    },
    {
     "name": "stdout",
     "output_type": "stream",
     "text": [
      "---\n",
      "No non-salt/solvate components\n"
     ]
    },
    {
     "data": {
      "image/png": "[encoded data removed]",
      "text/plain": [
       "<rdkit.Chem.rdchem.Mol at 0x1ed1ebe47b0>"
      ]
     },
     "metadata": {},
     "output_type": "display_data"
    },
    {
     "name": "stdout",
     "output_type": "stream",
     "text": [
      "---\n",
      "No non-salt/solvate components\n"
     ]
    },
    {
     "data": {
      "image/png": "[encoded data removed]",
      "text/plain": [
       "<rdkit.Chem.rdchem.Mol at 0x1ed1ebe47b0>"
      ]
     },
     "metadata": {},
     "output_type": "display_data"
    },
    {
     "name": "stdout",
     "output_type": "stream",
     "text": [
      "---\n",
      "No non-salt/solvate components\n"
     ]
    },
    {
     "data": {
      "image/png": "[encoded data removed]",
      "text/plain": [
       "<rdkit.Chem.rdchem.Mol at 0x1ed1ebe4120>"
      ]
     },
     "metadata": {},
     "output_type": "display_data"
    },
    {
     "name": "stdout",
     "output_type": "stream",
     "text": [
      "---\n",
      "No non-salt/solvate components\n"
     ]
    },
    {
     "data": {
      "image/png": "[encoded data removed]",
      "text/plain": [
       "<rdkit.Chem.rdchem.Mol at 0x1ed1e7247b0>"
      ]
     },
     "metadata": {},
     "output_type": "display_data"
    },
    {
     "name": "stdout",
     "output_type": "stream",
     "text": [
      "---\n",
      "No non-salt/solvate components\n"
     ]
    },
    {
     "data": {
      "image/png": "[encoded data removed]",
      "text/plain": [
       "<rdkit.Chem.rdchem.Mol at 0x1ed1ebdf0d0>"
      ]
     },
     "metadata": {},
     "output_type": "display_data"
    },
    {
     "name": "stdout",
     "output_type": "stream",
     "text": [
      "---\n",
      "No non-salt/solvate components\n"
     ]
    },
    {
     "data": {
      "image/png": "[encoded data removed]",
      "text/plain": [
       "<rdkit.Chem.rdchem.Mol at 0x1ed1ebc5440>"
      ]
     },
     "metadata": {},
     "output_type": "display_data"
    },
    {
     "name": "stdout",
     "output_type": "stream",
     "text": [
      "---\n",
      "No non-salt/solvate components\n"
     ]
    },
    {
     "data": {
      "image/png": "[encoded data removed]",
      "text/plain": [
       "<rdkit.Chem.rdchem.Mol at 0x1ed1f0623f0>"
      ]
     },
     "metadata": {},
     "output_type": "display_data"
    },
    {
     "name": "stdout",
     "output_type": "stream",
     "text": [
      "---\n",
      "No non-salt/solvate components\n"
     ]
    },
    {
     "data": {
      "image/png": "[encoded data removed]",
      "text/plain": [
       "<rdkit.Chem.rdchem.Mol at 0x1ed1ece2210>"
      ]
     },
     "metadata": {},
     "output_type": "display_data"
    },
    {
     "name": "stdout",
     "output_type": "stream",
     "text": [
      "---\n",
      "No non-salt/solvate components\n"
     ]
    },
    {
     "data": {
      "image/png": "[encoded data removed]",
      "text/plain": [
       "<rdkit.Chem.rdchem.Mol at 0x1ed1ece23f0>"
      ]
     },
     "metadata": {},
     "output_type": "display_data"
    },
    {
     "name": "stdout",
     "output_type": "stream",
     "text": [
      "---\n",
      "\n"
     ]
    }
   ],
   "source": [
    "std_mols = np.asarray(list(map(cs.standardise, tqdm_notebook(df_molecules.Canonical_Smiles.values))))"
   ]
  },
  {
   "cell_type": "code",
   "execution_count": 21,
   "metadata": {},
   "outputs": [],
   "source": [
    "np.save('secondary_data/std_mols.npy',std_mols)"
   ]
  },
  {
   "cell_type": "code",
   "execution_count": 22,
   "metadata": {},
   "outputs": [],
   "source": [
    "std_mols = np.load('secondary_data/std_mols.npy', allow_pickle=True)"
   ]
  },
  {
   "cell_type": "code",
   "execution_count": 23,
   "metadata": {},
   "outputs": [],
   "source": [
    "df_molecules['std_smiles'] = [x if x is None else MolToSmiles(x) for x in std_mols]\n",
    "df_molecules['std_inchi']  = [x if x is None else MolToInchi(x) for x in std_mols]\n",
    "df_molecules['std_inchi_key'] = [x if x is None else InchiToInchiKey(x) for x in df_molecules.std_inchi]"
   ]
  },
  {
   "cell_type": "code",
   "execution_count": 24,
   "metadata": {},
   "outputs": [],
   "source": [
    "df_molecules_std = df_molecules[std_mols != None] \\\n",
    "    .drop_duplicates('std_inchi_key') \\\n",
    "    .set_index('std_inchi_key') \\\n",
    "    .drop('Canonical_Smiles', axis='columns') \\\n",
    "    .copy()"
   ]
  },
  {
   "cell_type": "code",
   "execution_count": 25,
   "metadata": {},
   "outputs": [],
   "source": [
    "df_molecules.drop(['Canonical_Smiles','std_smiles','std_inchi'], axis='columns', inplace=True) # those columns are redundant now"
   ]
  },
  {
   "cell_type": "code",
   "execution_count": 26,
   "metadata": {},
   "outputs": [
    {
     "data": {
      "text/html": [
       "<div>\n",
       "<style scoped>\n",
       "    .dataframe tbody tr th:only-of-type {\n",
       "        vertical-align: middle;\n",
       "    }\n",
       "\n",
       "    .dataframe tbody tr th {\n",
       "        vertical-align: top;\n",
       "    }\n",
       "\n",
       "    .dataframe thead th {\n",
       "        text-align: right;\n",
       "    }\n",
       "</style>\n",
       "<table border=\"1\" class=\"dataframe\">\n",
       "  <thead>\n",
       "    <tr style=\"text-align: right;\">\n",
       "      <th></th>\n",
       "      <th>std_smiles</th>\n",
       "      <th>std_inchi</th>\n",
       "    </tr>\n",
       "    <tr>\n",
       "      <th>std_inchi_key</th>\n",
       "      <th></th>\n",
       "      <th></th>\n",
       "    </tr>\n",
       "  </thead>\n",
       "  <tbody>\n",
       "    <tr>\n",
       "      <th>FPECYZJXGMTZAF-UHFFFAOYSA-N</th>\n",
       "      <td>CCn1nc(-c2ccc(O)cc2O)c2ccc(O)cc21</td>\n",
       "      <td>InChI=1S/C15H14N2O3/c1-2-17-13-7-9(18)3-5-11(1...</td>\n",
       "    </tr>\n",
       "    <tr>\n",
       "      <th>SWJSHDFDYLZVEN-UHFFFAOYSA-N</th>\n",
       "      <td>C=CCn1nc(-c2ccc(O)cc2C)c2cccc(C(F)(F)F)c21</td>\n",
       "      <td>InChI=1S/C18H15F3N2O/c1-3-9-23-17-14(5-4-6-15(...</td>\n",
       "    </tr>\n",
       "    <tr>\n",
       "      <th>IYPUUNMLLKLEOH-UHFFFAOYSA-N</th>\n",
       "      <td>Oc1ccc(-c2nn(C3CCCC3)c3c(F)cccc23)cc1</td>\n",
       "      <td>InChI=1S/C18H17FN2O/c19-16-7-3-6-15-17(12-8-10...</td>\n",
       "    </tr>\n",
       "    <tr>\n",
       "      <th>DYDWLVOJCJFDBV-UHFFFAOYSA-N</th>\n",
       "      <td>Oc1ccc(-c2nn(Cc3ccccc3)c3c(C(F)(F)F)cccc23)cc1</td>\n",
       "      <td>InChI=1S/C21H15F3N2O/c22-21(23,24)18-8-4-7-17-...</td>\n",
       "    </tr>\n",
       "    <tr>\n",
       "      <th>HGZSLWUFOGHPTM-UHFFFAOYSA-N</th>\n",
       "      <td>CCCCn1nc(-c2ccc(O)cc2O)c2ccc(O)cc21</td>\n",
       "      <td>InChI=1S/C17H18N2O3/c1-2-3-8-19-15-9-11(20)4-6...</td>\n",
       "    </tr>\n",
       "  </tbody>\n",
       "</table>\n",
       "</div>"
      ],
      "text/plain": [
       "                                                                 std_smiles  \\\n",
       "std_inchi_key                                                                 \n",
       "FPECYZJXGMTZAF-UHFFFAOYSA-N               CCn1nc(-c2ccc(O)cc2O)c2ccc(O)cc21   \n",
       "SWJSHDFDYLZVEN-UHFFFAOYSA-N      C=CCn1nc(-c2ccc(O)cc2C)c2cccc(C(F)(F)F)c21   \n",
       "IYPUUNMLLKLEOH-UHFFFAOYSA-N           Oc1ccc(-c2nn(C3CCCC3)c3c(F)cccc23)cc1   \n",
       "DYDWLVOJCJFDBV-UHFFFAOYSA-N  Oc1ccc(-c2nn(Cc3ccccc3)c3c(C(F)(F)F)cccc23)cc1   \n",
       "HGZSLWUFOGHPTM-UHFFFAOYSA-N             CCCCn1nc(-c2ccc(O)cc2O)c2ccc(O)cc21   \n",
       "\n",
       "                                                                     std_inchi  \n",
       "std_inchi_key                                                                   \n",
       "FPECYZJXGMTZAF-UHFFFAOYSA-N  InChI=1S/C15H14N2O3/c1-2-17-13-7-9(18)3-5-11(1...  \n",
       "SWJSHDFDYLZVEN-UHFFFAOYSA-N  InChI=1S/C18H15F3N2O/c1-3-9-23-17-14(5-4-6-15(...  \n",
       "IYPUUNMLLKLEOH-UHFFFAOYSA-N  InChI=1S/C18H17FN2O/c19-16-7-3-6-15-17(12-8-10...  \n",
       "DYDWLVOJCJFDBV-UHFFFAOYSA-N  InChI=1S/C21H15F3N2O/c22-21(23,24)18-8-4-7-17-...  \n",
       "HGZSLWUFOGHPTM-UHFFFAOYSA-N  InChI=1S/C17H18N2O3/c1-2-3-8-19-15-9-11(20)4-6...  "
      ]
     },
     "execution_count": 26,
     "metadata": {},
     "output_type": "execute_result"
    }
   ],
   "source": [
    "df_molecules_std.head()"
   ]
  },
  {
   "cell_type": "markdown",
   "metadata": {},
   "source": [
    "## Summarize the activities for each standardised molecule\n",
    "\n",
    "For each pair of standardised molecule and receptor we summarize the measured values taking a median"
   ]
  },
  {
   "cell_type": "code",
   "execution_count": 42,
   "metadata": {},
   "outputs": [],
   "source": [
    "df_activity = df_clean \\\n",
    "    .join(df_molecules, on='Molecule', how='inner') \\\n",
    "    .join(df_molecules_std, on='std_inchi_key', how='inner') \\\n",
    "    .groupby(['std_inchi_key', 'receptor_name']) \\\n",
    "    .aggregate('median') \\\n",
    "    [['Standard_Value','pChEMBL_Value']] \\\n",
    "    .reset_index('receptor_name') \\\n",
    "    .copy()"
   ]
  },
  {
   "cell_type": "code",
   "execution_count": 43,
   "metadata": {},
   "outputs": [
    {
     "data": {
      "text/html": [
       "<div>\n",
       "<style scoped>\n",
       "    .dataframe tbody tr th:only-of-type {\n",
       "        vertical-align: middle;\n",
       "    }\n",
       "\n",
       "    .dataframe tbody tr th {\n",
       "        vertical-align: top;\n",
       "    }\n",
       "\n",
       "    .dataframe thead th {\n",
       "        text-align: right;\n",
       "    }\n",
       "</style>\n",
       "<table border=\"1\" class=\"dataframe\">\n",
       "  <thead>\n",
       "    <tr style=\"text-align: right;\">\n",
       "      <th></th>\n",
       "      <th>receptor_name</th>\n",
       "      <th>Standard_Value</th>\n",
       "      <th>pChEMBL_Value</th>\n",
       "    </tr>\n",
       "    <tr>\n",
       "      <th>std_inchi_key</th>\n",
       "      <th></th>\n",
       "      <th></th>\n",
       "      <th></th>\n",
       "    </tr>\n",
       "  </thead>\n",
       "  <tbody>\n",
       "    <tr>\n",
       "      <th>AACVSEPXXNRBIR-UHFFFAOYSA-N</th>\n",
       "      <td>PR</td>\n",
       "      <td>16.4</td>\n",
       "      <td>7.790</td>\n",
       "    </tr>\n",
       "    <tr>\n",
       "      <th>AADGIVANXMJZCW-HFPMIOGFSA-N</th>\n",
       "      <td>MR</td>\n",
       "      <td>7025.0</td>\n",
       "      <td>6.075</td>\n",
       "    </tr>\n",
       "    <tr>\n",
       "      <th>AAJNWJFLYOFHIB-UHFFFAOYSA-N</th>\n",
       "      <td>MR</td>\n",
       "      <td>320.0</td>\n",
       "      <td>6.500</td>\n",
       "    </tr>\n",
       "    <tr>\n",
       "      <th>AAJNWJFLYOFHIB-UHFFFAOYSA-N</th>\n",
       "      <td>PR</td>\n",
       "      <td>140.0</td>\n",
       "      <td>6.850</td>\n",
       "    </tr>\n",
       "    <tr>\n",
       "      <th>AAPVCQWLJSSUGW-UHFFFAOYSA-N</th>\n",
       "      <td>AR</td>\n",
       "      <td>19000.0</td>\n",
       "      <td>4.720</td>\n",
       "    </tr>\n",
       "  </tbody>\n",
       "</table>\n",
       "</div>"
      ],
      "text/plain": [
       "                            receptor_name  Standard_Value  pChEMBL_Value\n",
       "std_inchi_key                                                           \n",
       "AACVSEPXXNRBIR-UHFFFAOYSA-N            PR            16.4          7.790\n",
       "AADGIVANXMJZCW-HFPMIOGFSA-N            MR          7025.0          6.075\n",
       "AAJNWJFLYOFHIB-UHFFFAOYSA-N            MR           320.0          6.500\n",
       "AAJNWJFLYOFHIB-UHFFFAOYSA-N            PR           140.0          6.850\n",
       "AAPVCQWLJSSUGW-UHFFFAOYSA-N            AR         19000.0          4.720"
      ]
     },
     "execution_count": 43,
     "metadata": {},
     "output_type": "execute_result"
    }
   ],
   "source": [
    "df_activity.head()"
   ]
  },
  {
   "cell_type": "markdown",
   "metadata": {},
   "source": [
    "## Generate fingerprints\n",
    "\n",
    "For each molecule we generate a hashed morgan fingerprint, which is a bitstring of length 1024 and somehow encodes the structure."
   ]
  },
  {
   "cell_type": "code",
   "execution_count": 44,
   "metadata": {},
   "outputs": [],
   "source": [
    "std_mols_clean = list(map(MolFromSmiles, df_molecules_std.std_smiles))"
   ]
  },
  {
   "cell_type": "code",
   "execution_count": 45,
   "metadata": {
    "scrolled": true
   },
   "outputs": [],
   "source": [
    "df_molecules_std['std_morgan_fp'] = [AllChem.GetMorganFingerprintAsBitVect(mol, 2, nBits=1024).ToBitString() for mol in std_mols_clean]"
   ]
  },
  {
   "cell_type": "markdown",
   "metadata": {},
   "source": [
    "## Generate scaffolds\n",
    "\n",
    "A scaffold is a simplified structure, where we don't differenciate between atom types and we cut-off aliphatic (non-ring) residuals"
   ]
  },
  {
   "cell_type": "code",
   "execution_count": 46,
   "metadata": {},
   "outputs": [],
   "source": [
    "scaffolds = [MakeScaffoldGeneric(GetScaffoldForMol(mol)) for mol in std_mols_clean]"
   ]
  },
  {
   "cell_type": "code",
   "execution_count": 47,
   "metadata": {},
   "outputs": [
    {
     "name": "stdout",
     "output_type": "stream",
     "text": [
      "Molecule:\n"
     ]
    },
    {
     "data": {
      "image/png": "[encoded data removed]",
      "text/plain": [
       "<rdkit.Chem.rdchem.Mol at 0x1ed1e995850>"
      ]
     },
     "metadata": {},
     "output_type": "display_data"
    },
    {
     "name": "stdout",
     "output_type": "stream",
     "text": [
      "Its scaffold:\n"
     ]
    },
    {
     "data": {
      "image/png": "[encoded data removed]",
      "text/plain": [
       "<rdkit.Chem.rdchem.Mol at 0x1ed21930580>"
      ]
     },
     "metadata": {},
     "output_type": "display_data"
    }
   ],
   "source": [
    "picked_mol = 666\n",
    "print('Molecule:')\n",
    "display(std_mols_clean[picked_mol])\n",
    "print('Its scaffold:')\n",
    "display(scaffolds[picked_mol])"
   ]
  },
  {
   "cell_type": "code",
   "execution_count": 48,
   "metadata": {},
   "outputs": [],
   "source": [
    "df_molecules_std['scaffold_smiles'] = [MolToSmiles(mol) for mol in scaffolds]\n",
    "df_molecules_std['scaffold_inchi'] = [MolToInchi(mol) for mol in scaffolds]\n",
    "df_molecules_std['scaffold_inchi_key'] = [InchiToInchiKey(mol) for mol in df_molecules_std.scaffold_inchi]"
   ]
  },
  {
   "cell_type": "code",
   "execution_count": 49,
   "metadata": {},
   "outputs": [],
   "source": [
    "df_molecules_std['scaffold_morgan_fp'] = [AllChem.GetMorganFingerprintAsBitVect(mol, 2, nBits=1024).ToBitString() for mol in scaffolds]"
   ]
  },
  {
   "cell_type": "markdown",
   "metadata": {},
   "source": [
    "## Export the data"
   ]
  },
  {
   "cell_type": "code",
   "execution_count": 50,
   "metadata": {},
   "outputs": [],
   "source": [
    "df_clean.to_csv('secondary_data/df_clean.csv')\n",
    "df_molecules_std.to_csv('secondary_data/df_molecules_std.csv')\n",
    "df_activity.to_csv('secondary_data/df_activity.csv')"
   ]
  },
  {
   "cell_type": "code",
   "execution_count": null,
   "metadata": {},
   "outputs": [],
   "source": []
  }
 ],
 "metadata": {
  "kernelspec": {
   "display_name": "Python 3",
   "language": "python",
   "name": "python3"
  },
  "language_info": {
   "codemirror_mode": {
    "name": "ipython",
    "version": 3
   },
   "file_extension": ".py",
   "mimetype": "text/x-python",
   "name": "python",
   "nbconvert_exporter": "python",
   "pygments_lexer": "ipython3",
   "version": "3.7.3"
  }
 },
 "nbformat": 4,
 "nbformat_minor": 2
}
